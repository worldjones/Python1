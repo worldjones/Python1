{
 "cells": [
  {
   "cell_type": "markdown",
   "metadata": {},
   "source": [
    "# Web services with Flask\n",
    "There are several web servers build with python:\n",
    "A large web framework largely used in production code is: [Django](https://www.djangoproject.com/). For a more lightweight webserver with a friendlier learning curve we have Flask\n",
    "\n",
    "Content is based on these ressources:  \n",
    "https://blog.miguelgrinberg.com/post/designing-a-restful-api-with-python-and-flask   \n",
    "https://blog.miguelgrinberg.com/post/restful-authentication-with-flask\n",
    "\n",
    "For a super fast and simple webserver: [fast_api](https://fastapi.tiangolo.com/tutorial/)"
   ]
  },
  {
   "cell_type": "markdown",
   "metadata": {},
   "source": [
    "## Flask in this docker container:\n",
    "\n",
    "This is just for simple dev work. For production ready flask use the [flask docker project](https://github.com/HartmannDemoCode/flask_docker.git) or install flask directly on Digital Ocean as descriped below.\n",
    "\n",
    "#### From inside the container: \n",
    "`docker exec -it notebookserver bash` run\n",
    "`flask run --host=0.0.0.0` this will run flask with the env var: flask_app.py as specified in Dockerfile.  \n",
    "To run another flask file put it in the shared volume (in the \"flask\" folder) and open the container like this with a new env var:  \n",
    "`docker exec -it -e FLASK_APP=\"flask/flask_app2.py\" notebookserver bash` and  \n",
    "`flask run --host=0.0.0.0`"
   ]
  },
  {
   "cell_type": "markdown",
   "metadata": {},
   "source": [
    "## Flask on local machine (not using docker)\n",
    "If you have python installed with Anaconda on your pc, you got flask installed allready (check with `conda list` from inside your project folder).  \n",
    "The following example code is the most basic implementation of a flask rest service:  \n",
    "```python\n",
    "#!flask/bin/python\n",
    "from flask import Flask\n",
    "\n",
    "app = Flask(__name__)\n",
    "\n",
    "@app.route('/flask_app/')\n",
    "def index():\n",
    "    return \"Hello, World from flask server!\"\n",
    "\n",
    "if __name__ == '__main__':\n",
    "    app.run(debug=True)\n",
    "```\n",
    "Save it in a file: flask_app.py and run it from cli  \n",
    "You can now access in browser from `http://127.0.0.1:5000/flask_app`"
   ]
  },
  {
   "cell_type": "markdown",
   "metadata": {},
   "source": [
    "## Flask extended\n",
    "Copy the file to flask_app_ext.py and add more http methods in the @app.route configuration\n",
    "\n",
    "```python\n",
    "#!flask/bin/python\n",
    "from flask import Flask, jsonify, abort, request\n",
    "\n",
    "\n",
    "app = Flask(__name__)\n",
    "\n",
    "tasks = [\n",
    "    {\n",
    "        'id': 1,\n",
    "        'title': 'Go shopping',\n",
    "        'description': 'Milk, Cheese, Fruit, Wine', \n",
    "        'done': False\n",
    "    },\n",
    "    {\n",
    "        'id': 2,\n",
    "        'title': 'Study',\n",
    "        'description': 'Learn about uWsgi server and flask with python', \n",
    "        'done': False\n",
    "    }\n",
    "]\n",
    "\n",
    "\n",
    "@app.route('/todo/api/tasks', methods=['GET'])\n",
    "def get_tasks():\n",
    "    return jsonify({'tasks': tasks})\n",
    "\n",
    "\n",
    "@app.route('/todo/api/tasks/<int:task_id>', methods=['GET'])\n",
    "def get_task(task_id):\n",
    "    task = [task for task in tasks if task['id'] == task_id]\n",
    "    if len(task) == 0:\n",
    "        abort(404)\n",
    "    return jsonify({'task': task[0]})\n",
    "\n",
    "if __name__ == '__main__':\n",
    "    app.run(debug=True)\n",
    "\n",
    "@app.route('/todo/api/tasks', methods=['POST'])\n",
    "def create_task():\n",
    "    if not request.json or not 'title' in request.json:\n",
    "        abort(400)\n",
    "    task = {\n",
    "        'id': tasks[-1]['id'] + 1,\n",
    "        'title': request.json['title'],\n",
    "        'description': request.json.get('description', \"\"),\n",
    "        'done': False\n",
    "    }\n",
    "    tasks.append(task)\n",
    "    return jsonify({'task': task}), 201\n",
    "\n",
    "@app.route('/todo/api/tasks/<int:task_id>', methods=['PUT'])\n",
    "def update_task(task_id):\n",
    "    task = [task for task in tasks if task['id'] == task_id]\n",
    "    if len(task) == 0:\n",
    "        abort(404)\n",
    "    if not request.json:\n",
    "        abort(400)\n",
    "    if 'title' in request.json and type(request.json['title']) != unicode:\n",
    "        abort(400)\n",
    "    if 'description' in request.json and type(request.json['description']) is not unicode:\n",
    "        abort(400)\n",
    "    if 'done' in request.json and type(request.json['done']) is not bool:\n",
    "        abort(400)\n",
    "    task[0]['title'] = request.json.get('title', task[0]['title'])\n",
    "    task[0]['description'] = request.json.get('description', task[0]['description'])\n",
    "    task[0]['done'] = request.json.get('done', task[0]['done'])\n",
    "    return jsonify({'task': task[0]})\n",
    "\n",
    "@app.route('/todo/api/tasks/<int:task_id>', methods=['DELETE'])\n",
    "def delete_task(task_id):\n",
    "    task = [task for task in tasks if task['id'] == task_id]\n",
    "    if len(task) == 0:\n",
    "        abort(404)\n",
    "    tasks.remove(task[0])\n",
    "    return jsonify({'result': True})\n",
    "\n",
    "```"
   ]
  },
  {
   "cell_type": "markdown",
   "metadata": {},
   "source": [
    "## 01 Exercise (45 min)\n",
    "1. Create a restful webservice that can respond to the following requests:  \n",
    "\n",
    "|Method|URL|Example|Response|Description|\n",
    "|--|--|--|--|--|\n",
    "|GET|/datagenerator/api/person/{no}|/datagenerator/api/person/100|[{\"id\":1,\"name\":\"Holger\"},{},{}]|Returns 100 person objects|\n",
    "|POST|datagenerator/api/person|POST json: {\"name\":\"Henrietta\"}|{\"id\":101,\"name\":\"Henrietta\"}|Adds a new Person object to the list of persons on the server|\n",
    "\n",
    "2. Use a Mysql table to store and retrieve Person objects"
   ]
  }
 ],
 "metadata": {
  "kernelspec": {
   "display_name": "Python 3",
   "language": "python",
   "name": "python3"
  },
  "language_info": {
   "codemirror_mode": {
    "name": "ipython",
    "version": 3
   },
   "file_extension": ".py",
   "mimetype": "text/x-python",
   "name": "python",
   "nbconvert_exporter": "python",
   "pygments_lexer": "ipython3",
   "version": "3.7.6"
  },
  "varInspector": {
   "cols": {
    "lenName": 16,
    "lenType": 16,
    "lenVar": 40
   },
   "kernels_config": {
    "python": {
     "delete_cmd_postfix": "",
     "delete_cmd_prefix": "del ",
     "library": "var_list.py",
     "varRefreshCmd": "print(var_dic_list())"
    },
    "r": {
     "delete_cmd_postfix": ") ",
     "delete_cmd_prefix": "rm(",
     "library": "var_list.r",
     "varRefreshCmd": "cat(var_dic_list()) "
    }
   },
   "types_to_exclude": [
    "module",
    "function",
    "builtin_function_or_method",
    "instance",
    "_Feature"
   ],
   "window_display": false
  }
 },
 "nbformat": 4,
 "nbformat_minor": 2
}
