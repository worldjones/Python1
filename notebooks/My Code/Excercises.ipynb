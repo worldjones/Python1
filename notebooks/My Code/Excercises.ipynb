{
 "cells": [
  {
   "cell_type": "code",
   "execution_count": null,
   "metadata": {},
   "outputs": [],
   "source": [
    "\"1. Iterate a list of names to return a list of the names starting with H\"\r\n",
    "\r\n",
    "names = ['Kasper', 'Hassan', 'Rumle', 'Anton', 'Hunter']\r\n",
    "sort_names = [name for name in names if name[0] == 'H']\r\n",
    "print(sort_names)\r\n",
    "\r\n",
    "\"2. In one line create a list of the numbers 1-100 to the power of 3\"\r\n",
    "\r\n",
    "numbers = [number ** 3 for number in range(1,101)]\r\n",
    "print(numbers)\r\n",
    "\r\n",
    "\"3. Iterate a list of names to create a list of tuples where the tuples first value is the length of the name and the second is the name\"\r\n",
    "\r\n",
    "tuples = [(len(name), name) for name in names]\r\n",
    "print(tuples)\r\n",
    "\r\n",
    "\"4. Iterate over each character in a string and get only those that are nummeric\"\r\n",
    "\r\n",
    "String = '23jf654nsdo6ok4f9z3q'\r\n",
    "numeric = [char for char in string if char.isnumeric()]\r\n",
    "print(numeric)\r\n",
    "\r\n",
    "\"5. Using only a list comprehension wrapped in set() get all possible combination from throwing 2 dice (hint use 2 for loops in a single list comprehension)\"\r\n",
    "\r\n",
    "combinations = {(dice1, dice2) for dice1 in range(1,7) for dice2 in range(1,7)}\r\n",
    "print(combinations)\r\n",
    "\r\n",
    "\r\n",
    "\r\n"
   ]
  }
 ],
 "metadata": {
  "interpreter": {
   "hash": "2db524e06e9f5f4ffedc911c917cb75e12dbc923643829bf417064a77eb14d37"
  },
  "kernelspec": {
   "display_name": "Python 3.8.5 64-bit",
   "name": "python3"
  },
  "language_info": {
   "name": "python",
   "version": ""
  },
  "orig_nbformat": 4
 },
 "nbformat": 4,
 "nbformat_minor": 2
}