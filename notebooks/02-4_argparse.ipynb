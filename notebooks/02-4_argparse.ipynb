{
 "cells": [
  {
   "cell_type": "markdown",
   "metadata": {
    "slideshow": {
     "slide_type": "slide"
    }
   },
   "source": [
    "## CLI Arguments in Python"
   ]
  },
  {
   "cell_type": "code",
   "execution_count": 1,
   "metadata": {
    "slideshow": {
     "slide_type": "subslide"
    }
   },
   "outputs": [
    {
     "name": "stdout",
     "output_type": "stream",
     "text": [
      "['/opt/conda/lib/python3.7/site-packages/ipykernel_launcher.py', '-f', '/tmp/kernel-c6e58cba-bfd9-442a-93d2-194a8d81b27a.json']\n"
     ]
    }
   ],
   "source": [
    "import sys\n",
    "print(sys.argv)"
   ]
  },
  {
   "cell_type": "markdown",
   "metadata": {
    "slideshow": {
     "slide_type": "subslide"
    }
   },
   "source": [
    "## argparse library\n",
    "\n",
    "https://docs.python.org/3/library/argparse.html"
   ]
  },
  {
   "cell_type": "markdown",
   "metadata": {
    "slideshow": {
     "slide_type": "subslide"
    }
   },
   "source": [
    "### argparse example\n",
    "```python\n",
    "import argparse\n",
    "parser= argparse.ArgumentParser(description='A program that downloads a URL and stores it locally')\n",
    "print(parser.parse_args())\n",
    "```"
   ]
  },
  {
   "cell_type": "markdown",
   "metadata": {
    "slideshow": {
     "slide_type": "subslide"
    }
   },
   "source": [
    "## Adding positional arguments\n",
    "\n",
    "```python\n",
    "parser.add_argument('url', help='an integer for the accumulator')\n",
    "```\n",
    "\n",
    "* Positional arguments are **required**"
   ]
  },
  {
   "cell_type": "markdown",
   "metadata": {
    "slideshow": {
     "slide_type": "subslide"
    }
   },
   "source": [
    "## Getting argument values\n",
    "\n",
    "```python3\n",
    "args = parser.parse_args()\n",
    "print(args.url)\n",
    "```"
   ]
  },
  {
   "cell_type": "markdown",
   "metadata": {},
   "source": [
    "## See example in modules/cli_examples\n",
    "from the docker container terminal at /home/jovyan/work/modules/cli_examples run:  \n",
    "`python cli_5.py` and:  \n",
    "`python cli_5.py example.com -d /tmp` and   \n",
    "`python cli_5.py --help`"
   ]
  },
  {
   "cell_type": "markdown",
   "metadata": {
    "slideshow": {
     "slide_type": "subslide"
    }
   },
   "source": [
    "## Exercise\n",
    "\n",
    "1. Create a file with a `if __name__ == '__main__':` clause\n",
    "2. Use the `argparse` library to create an `ArgumentParser`\n",
    "3. Add the *positional* argument `name` that gives you a string\n",
    "4. Save that name into a string"
   ]
  },
  {
   "cell_type": "markdown",
   "metadata": {
    "slideshow": {
     "slide_type": "subslide"
    }
   },
   "source": [
    "## Adding optional arguments\n",
    "\n",
    "* Convention: optional arguments are prepended with `-` or `--`\n",
    "\n",
    "```python3\n",
    "parser.add_argument('--destination', help='The name of the file to store the url in')\n",
    "```"
   ]
  },
  {
   "cell_type": "markdown",
   "metadata": {
    "slideshow": {
     "slide_type": "subslide"
    }
   },
   "source": [
    "## Optional arguments shorthands\n",
    "\n",
    "```python3\n",
    "parser.add_argument('-d', '--destination', help='The name of the file to store the url in')\n",
    "```"
   ]
  },
  {
   "cell_type": "markdown",
   "metadata": {
    "slideshow": {
     "slide_type": "subslide"
    }
   },
   "source": [
    "## Argument default values\n",
    "\n",
    "```python3\n",
    "parser.add_argument('-d', '--destination', default='default_file.exe' help='The name of the file to store the url in')\n",
    "```"
   ]
  },
  {
   "cell_type": "markdown",
   "metadata": {
    "slideshow": {
     "slide_type": "subslide"
    }
   },
   "source": [
    "## Exercise\n",
    "\n",
    "Implement a small download program, using `https://hackernews.com` as a test URL:\n",
    "\n",
    "1. Create a cli program to take 2 arguments: url (required) and destination_file (optional)\n",
    "2. Create a description of what the program does\n",
    "3. Implement the download part\n",
    "  * If no destination file was specified, save the file in `default_file.dat`\n",
    "4. Improve the code: if no destination file was specified, use the last subset of the URL as the name for the file\n",
    "5. Improve the code: if no destination file was specified, use the MIME-type of the HTTP header to guess the file extension"
   ]
  }
 ],
 "metadata": {
  "celltoolbar": "Slideshow",
  "kernelspec": {
   "display_name": "Python 3",
   "language": "python",
   "name": "python3"
  },
  "language_info": {
   "codemirror_mode": {
    "name": "ipython",
    "version": 3
   },
   "file_extension": ".py",
   "mimetype": "text/x-python",
   "name": "python",
   "nbconvert_exporter": "python",
   "pygments_lexer": "ipython3",
   "version": "3.7.6"
  },
  "varInspector": {
   "cols": {
    "lenName": 16,
    "lenType": 16,
    "lenVar": 40
   },
   "kernels_config": {
    "python": {
     "delete_cmd_postfix": "",
     "delete_cmd_prefix": "del ",
     "library": "var_list.py",
     "varRefreshCmd": "print(var_dic_list())"
    },
    "r": {
     "delete_cmd_postfix": ") ",
     "delete_cmd_prefix": "rm(",
     "library": "var_list.r",
     "varRefreshCmd": "cat(var_dic_list()) "
    }
   },
   "types_to_exclude": [
    "module",
    "function",
    "builtin_function_or_method",
    "instance",
    "_Feature"
   ],
   "window_display": false
  }
 },
 "nbformat": 4,
 "nbformat_minor": 2
}
