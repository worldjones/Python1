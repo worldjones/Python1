{
 "cells": [
  {
   "cell_type": "markdown",
   "metadata": {},
   "source": [
    "## Videos\n",
    "#### 00 Docker setup\n",
    "- [How to use docker. First 4 min is general docker, then specifically about this repo](https://youtu.be/9U_0NnlgvKg) **(11:36 min.)**\n",
    "\n",
    "#### 09 Machine learning\n",
    "- [01 Artificial Intelligence and Machine Learning **14:36**](https://www.youtube.com/watch?v=mM3sG4EpgAM&list=PLp907J1pTE7SvfvrKOYXTKNfp0z_4RuzC&index=2&ab_channel=ThomasHartmann)\n",
    "- [02 Feature space and OneHot encoding **10:37**](https://www.youtube.com/watch?v=BVY4hzQFZ84)\n",
    "- [03 Linear Algebra **11:28**](https://youtu.be/Q2_m8KJdMSk )\n",
    "- [04 Numerical data **19:33**](https://youtu.be/0nEj1px4JME )\n",
    "\n",
    "#### 10 Clustering\n",
    "- [01 Clustering with meanshift **9:35**](https://youtu.be/ylhcdYkwO7E)\n",
    "- [02 Clustering Titanic data **9:51**](https://youtu.be/B1E_cUUClU8 )\n",
    "\n",
    "#### 11 Classification\n",
    "- [01 Classification **7:06**](https://youtu.be/JsxlItdmUbM )\n",
    "- [02 Perceptrons **19:26**](https://youtu.be/LLZlLFdLfac )\n",
    "- [03 Classification with neural networks **10:20**](https://youtu.be/4RdOuTgZOHE)\n",
    "- [04 Classification with homemade neural network **14:54**](https://youtu.be/8oh2hTm6koQ)\n",
    "- [05 Neural networks 3 using Keras and Mnist dataset **14:19**](https://youtu.be/JfTYTggJH-A)\n",
    "\n",
    "#### 13 Text processing\n",
    "- [01 Preprocessing text **14:12**](https://youtu.be/n3Kw7oQAuCk)\n",
    "- [02 Word embeddings **6:53**](https://youtu.be/Q-2O9rUl5Co)\n",
    "- [03 IMDB example **10:03**](https://youtu.be/L3HPWozy5zg )"
   ]
  }
 ],
 "metadata": {
  "kernelspec": {
   "display_name": "Python 3",
   "language": "python",
   "name": "python3"
  },
  "language_info": {
   "codemirror_mode": {
    "name": "ipython",
    "version": 3
   },
   "file_extension": ".py",
   "mimetype": "text/x-python",
   "name": "python",
   "nbconvert_exporter": "python",
   "pygments_lexer": "ipython3",
   "version": "3.7.6"
  }
 },
 "nbformat": 4,
 "nbformat_minor": 4
}
