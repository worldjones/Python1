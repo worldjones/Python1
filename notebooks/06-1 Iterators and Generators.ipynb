{
 "cells": [
  {
   "cell_type": "markdown",
   "metadata": {
    "slideshow": {
     "slide_type": "slide"
    }
   },
   "source": [
    "# Agenda\n",
    "\n",
    "- Assignment feedback\n",
    "- Handling data\n",
    "- Generators\n",
    "- Requests\n",
    "- Multiprocessing"
   ]
  },
  {
   "cell_type": "markdown",
   "metadata": {
    "slideshow": {
     "slide_type": "subslide"
    }
   },
   "source": [
    "## Iterators in Python\n",
    "\n",
    "https://wiki.python.org/moin/Iterator  \n",
    "\n",
    "### Iterators implement 2 methods:\n",
    "__iter__() and __next__()  \n",
    "\n",
    "Iterators minimize memory use sinse each element is lazy loaded.   \n",
    "Generators are Iterators that can be easily written with a single function (rather than creating a class implementing the Iterator interface)"
   ]
  },
  {
   "cell_type": "code",
   "execution_count": 1,
   "metadata": {
    "slideshow": {
     "slide_type": "subslide"
    }
   },
   "outputs": [],
   "source": [
    "import random\n",
    "\n",
    "class RandomIterable:\n",
    "    \"\"\"implementation of the iterator protocol with __next__ and __iter__ methods.\n",
    "    __iter__() returns an iterator (normally the object itself)\"\"\"\n",
    "\n",
    "    def __iter__(self):\n",
    "        return self\n",
    "    def __next__(self):\n",
    "        if random.choice([\"go\", \"go\", \"go\", \"go\", \"stop\"]) == \"stop\":\n",
    "            raise StopIteration  # signals \"the end\"\n",
    "        return 1"
   ]
  },
  {
   "cell_type": "code",
   "execution_count": 21,
   "metadata": {},
   "outputs": [
    {
     "data": {
      "text/plain": [
       "[1, 1, 1, 1, 1]"
      ]
     },
     "execution_count": 21,
     "metadata": {},
     "output_type": "execute_result"
    }
   ],
   "source": [
    "[x for x in RandomIterable()]"
   ]
  },
  {
   "cell_type": "code",
   "execution_count": 28,
   "metadata": {},
   "outputs": [
    {
     "name": "stdout",
     "output_type": "stream",
     "text": [
      "1 1\n"
     ]
    }
   ],
   "source": [
    "iterable = RandomIterable() ## create an instance of iterable\n",
    "my_iterator = iter(iterable)\n",
    "try:\n",
    "    element1 = next(my_iterator)\n",
    "    element2 = next(my_iterator)\n",
    "    print(element1,element2) # might throw a StopIterationException before running twice\n",
    "except StopIteration as e:\n",
    "    print(type(e))\n"
   ]
  },
  {
   "cell_type": "markdown",
   "metadata": {},
   "source": [
    "### iterators in python"
   ]
  },
  {
   "cell_type": "code",
   "execution_count": 4,
   "metadata": {},
   "outputs": [
    {
     "name": "stdout",
     "output_type": "stream",
     "text": [
      "<class 'map'>\n",
      "<map object at 0x7f14c26afcd0>\n",
      "[14, 23, 32, 41]\n"
     ]
    }
   ],
   "source": [
    "# map\n",
    "map?\n",
    "num1_lst = [10,20,30,40]\n",
    "num2_lst = [4,3,2,1]\n",
    "add_func = lambda x,y:x+y\n",
    "\n",
    "result = map(add_func, num1_lst, num2_lst)\n",
    "print(type(result))\n",
    "print(result)\n",
    "print(list(result))"
   ]
  },
  {
   "cell_type": "markdown",
   "metadata": {
    "slideshow": {
     "slide_type": "subslide"
    }
   },
   "source": [
    "#  An intro to generators\n",
    "\n",
    "https://wiki.python.org/moin/Generators"
   ]
  },
  {
   "cell_type": "code",
   "execution_count": 33,
   "metadata": {
    "slideshow": {
     "slide_type": "subslide"
    }
   },
   "outputs": [
    {
     "name": "stdout",
     "output_type": "stream",
     "text": [
      "0\n",
      "1\n"
     ]
    }
   ],
   "source": [
    "def firstn(n):\n",
    "    \"\"\"Our first generator that lazy loads each requested element\"\"\"\n",
    "    num = 0\n",
    "    while num < n:\n",
    "        yield num\n",
    "        num += 1\n",
    "\n",
    "#[x for x in firstn(10)]\n",
    "fn = firstn(10)\n",
    "print(next(fn))\n",
    "print(next(fn))"
   ]
  },
  {
   "cell_type": "code",
   "execution_count": 59,
   "metadata": {},
   "outputs": [
    {
     "data": {
      "text/plain": [
       "[0, 1, 2, 3, 4, 5, 6, 7, 8, 9]"
      ]
     },
     "execution_count": 59,
     "metadata": {},
     "output_type": "execute_result"
    }
   ],
   "source": [
    "lst = list(firstn(10)) # now all elements are loaded in memory, so defies the purpose a bit.\n",
    "lst"
   ]
  },
  {
   "cell_type": "markdown",
   "metadata": {
    "slideshow": {
     "slide_type": "subslide"
    }
   },
   "source": [
    "## Generators in Pandas"
   ]
  },
  {
   "cell_type": "code",
   "execution_count": 32,
   "metadata": {
    "slideshow": {
     "slide_type": "subslide"
    }
   },
   "outputs": [],
   "source": [
    "import pandas as pd\n",
    "df = pd.read_csv('data/befkbhalderstatkode.csv') "
   ]
  },
  {
   "cell_type": "code",
   "execution_count": 33,
   "metadata": {
    "slideshow": {
     "slide_type": "subslide"
    }
   },
   "outputs": [
    {
     "data": {
      "text/html": [
       "<div>\n",
       "<style scoped>\n",
       "    .dataframe tbody tr th:only-of-type {\n",
       "        vertical-align: middle;\n",
       "    }\n",
       "\n",
       "    .dataframe tbody tr th {\n",
       "        vertical-align: top;\n",
       "    }\n",
       "\n",
       "    .dataframe thead th {\n",
       "        text-align: right;\n",
       "    }\n",
       "</style>\n",
       "<table border=\"1\" class=\"dataframe\">\n",
       "  <thead>\n",
       "    <tr style=\"text-align: right;\">\n",
       "      <th></th>\n",
       "      <th>AAR</th>\n",
       "      <th>BYDEL</th>\n",
       "      <th>ALDER</th>\n",
       "      <th>STATKODE</th>\n",
       "      <th>PERSONER</th>\n",
       "    </tr>\n",
       "  </thead>\n",
       "  <tbody>\n",
       "    <tr>\n",
       "      <th>0</th>\n",
       "      <td>2015</td>\n",
       "      <td>1</td>\n",
       "      <td>0</td>\n",
       "      <td>5100</td>\n",
       "      <td>614</td>\n",
       "    </tr>\n",
       "    <tr>\n",
       "      <th>1</th>\n",
       "      <td>2015</td>\n",
       "      <td>1</td>\n",
       "      <td>0</td>\n",
       "      <td>5104</td>\n",
       "      <td>2</td>\n",
       "    </tr>\n",
       "    <tr>\n",
       "      <th>2</th>\n",
       "      <td>2015</td>\n",
       "      <td>1</td>\n",
       "      <td>0</td>\n",
       "      <td>5106</td>\n",
       "      <td>1</td>\n",
       "    </tr>\n",
       "    <tr>\n",
       "      <th>3</th>\n",
       "      <td>2015</td>\n",
       "      <td>1</td>\n",
       "      <td>0</td>\n",
       "      <td>5110</td>\n",
       "      <td>1</td>\n",
       "    </tr>\n",
       "    <tr>\n",
       "      <th>4</th>\n",
       "      <td>2015</td>\n",
       "      <td>1</td>\n",
       "      <td>0</td>\n",
       "      <td>5120</td>\n",
       "      <td>4</td>\n",
       "    </tr>\n",
       "  </tbody>\n",
       "</table>\n",
       "</div>"
      ],
      "text/plain": [
       "    AAR  BYDEL  ALDER  STATKODE  PERSONER\n",
       "0  2015      1      0      5100       614\n",
       "1  2015      1      0      5104         2\n",
       "2  2015      1      0      5106         1\n",
       "3  2015      1      0      5110         1\n",
       "4  2015      1      0      5120         4"
      ]
     },
     "execution_count": 33,
     "metadata": {},
     "output_type": "execute_result"
    }
   ],
   "source": [
    "# show content of the dataframe\n",
    "df.head()"
   ]
  },
  {
   "cell_type": "code",
   "execution_count": 34,
   "metadata": {
    "slideshow": {
     "slide_type": "subslide"
    }
   },
   "outputs": [
    {
     "name": "stdout",
     "output_type": "stream",
     "text": [
      "<class 'generator'>\n",
      "AAR         2015\n",
      "BYDEL          1\n",
      "ALDER          0\n",
      "STATKODE    5100\n",
      "PERSONER     614\n",
      "Name: 0, dtype: int64 \n",
      "\n",
      "AAR         2015\n",
      "BYDEL          1\n",
      "ALDER          0\n",
      "STATKODE    5104\n",
      "PERSONER       2\n",
      "Name: 1, dtype: int64 \n",
      "\n",
      "AAR         2015\n",
      "BYDEL          1\n",
      "ALDER          0\n",
      "STATKODE    5106\n",
      "PERSONER       1\n",
      "Name: 2, dtype: int64 \n",
      "\n",
      "AAR         2015\n",
      "BYDEL          1\n",
      "ALDER          0\n",
      "STATKODE    5110\n",
      "PERSONER       1\n",
      "Name: 3, dtype: int64 \n",
      "\n"
     ]
    }
   ],
   "source": [
    "# get a generator from the dataframe to iterate over DataFrame rows as (index, Series) pairs.\n",
    "g = df.iterrows()\n",
    "print(type(g))\n",
    "for idx,row in g:\n",
    "    if idx < 4:\n",
    "        print(row,'\\n')"
   ]
  },
  {
   "cell_type": "code",
   "execution_count": 35,
   "metadata": {
    "slideshow": {
     "slide_type": "subslide"
    }
   },
   "outputs": [
    {
     "name": "stdout",
     "output_type": "stream",
     "text": [
      "Printing tuple with 2 values: first value=columnname of first column, second series object with 0-indexed values of the first column\n",
      "column name: AAR \n",
      " 0         2015\n",
      "1         2015\n",
      "2         2015\n",
      "3         2015\n",
      "4         2015\n",
      "          ... \n",
      "542512    1992\n",
      "542513    1992\n",
      "542514    1992\n",
      "542515    1992\n",
      "542516    1992\n",
      "Name: AAR, Length: 542517, dtype: int64\n"
     ]
    }
   ],
   "source": [
    "# using iteritems() instead of iterrows(): Iterates over the DataFrame columns, returning a tuple with the column name and the content as a Series\n",
    "for x in df.iteritems():\n",
    "    # print(x)\n",
    "    pass\n",
    "print('Printing tuple with 2 values: first value=columnname of first column, second series object with 0-indexed values of the first column')\n",
    "first_column = next(df.iteritems())\n",
    "print('column name: {}'.format(first_column[0]),'\\n', first_column[1]) "
   ]
  },
  {
   "cell_type": "markdown",
   "metadata": {},
   "source": [
    "## Using iterators/generators"
   ]
  },
  {
   "cell_type": "code",
   "execution_count": 70,
   "metadata": {},
   "outputs": [],
   "source": [
    "def check_prime(number):\n",
    "    for divisor in range(2, int(number ** 0.5) + 1):\n",
    "        if number % divisor == 0:\n",
    "            return False\n",
    "        return True"
   ]
  },
  {
   "cell_type": "code",
   "execution_count": 71,
   "metadata": {},
   "outputs": [
    {
     "name": "stdout",
     "output_type": "stream",
     "text": [
      "size of the list in memorey:\t\t406504\n",
      "size of the generator in memorey:\t128\n"
     ]
    }
   ],
   "source": [
    "\n",
    "# import getsizeof from sys module \n",
    "from sys import getsizeof \n",
    "  \n",
    "list_comprehension = [i for i in range(100000) if check_prime(i)] \n",
    "generator_expression = (i for i in range(100000) if check_prime(i))  \n",
    "  \n",
    "#gives size for list comprehension \n",
    "x = getsizeof(list_comprehension)  \n",
    "y = getsizeof(generator_expression)  \n",
    "print('size of the list in memorey:\\t\\t{}'.format(x))  \n",
    "print('size of the generator in memorey:\\t{}'.format(y))  \n"
   ]
  },
  {
   "cell_type": "markdown",
   "metadata": {},
   "source": [
    "#### Put the following into a module: read_print.py and run it"
   ]
  },
  {
   "cell_type": "markdown",
   "metadata": {
    "slideshow": {
     "slide_type": "subslide"
    }
   },
   "source": [
    "```python \n",
    "import os\n",
    "from memory_profiler import profile\n",
    "\n",
    "@profile\n",
    "def read_linewise(path):\n",
    "    with open(path) as fp:\n",
    "        for line in fp:\n",
    "            yield line\n",
    "\n",
    "@profile\n",
    "def read_complete(path):\n",
    "    with open(path) as fp:\n",
    "        return fp.readlines()\n",
    "\n",
    "@profile\n",
    "def print_file_contents_linewise():\n",
    "    for line in read_linewise('moby_dick.txt'):\n",
    "        print(line, end='')\n",
    "\n",
    "\n",
    "if __name__ == '__main__':\n",
    "    if not os.path.isfile('moby_dick.txt'):\n",
    "        os.system('wget -O moby_dick.txt http://www.gutenberg.org/files/2701/2701-0.txt')\n",
    "    print_file_contents_linewise()\n",
    "    print('\\n---------------------')\n",
    "    read_complete('moby_dick.txt')\n",
    "```"
   ]
  },
  {
   "cell_type": "markdown",
   "metadata": {},
   "source": [
    "## profiling the 2 methods\n",
    "we can see in the third column that line 13 increments the load on memory with 3.1 MB because all data is read at once compared to first profile where the profiled method uses a generator to lazy load each line."
   ]
  },
  {
   "cell_type": "markdown",
   "metadata": {
    "slideshow": {
     "slide_type": "subslide"
    }
   },
   "source": [
    "~~~bash\n",
    "Filename: read_print.py\n",
    "\n",
    "Line #    Mem usage    Increment   Line Contents\n",
    "================================================\n",
    "    15     38.6 MiB     38.6 MiB   @profile\n",
    "    16                             def print_file_contents():\n",
    "    17     39.3 MiB      0.3 MiB       for line in read_linewise('moby_dick.txt'):\n",
    "    18     39.3 MiB      0.0 MiB           print(line, end='')\n",
    "\n",
    "\n",
    "\n",
    "---------------------\n",
    "Filename: read_print.py\n",
    "\n",
    "Line #    Mem usage    Increment   Line Contents\n",
    "================================================\n",
    "    10     39.3 MiB     39.3 MiB   @profile\n",
    "    11                             def read_complete(path):\n",
    "    12     39.3 MiB      0.0 MiB       with open(path) as fp:\n",
    "    13     42.4 MiB      3.1 MiB           return fp.readlines()\n",
    "    \n",
    "\n",
    "#### The Increment column is where we can see the added load on memory from particular code line\n",
    "\n"
   ]
  },
  {
   "cell_type": "markdown",
   "metadata": {},
   "source": [
    "## Exercise create generator\n",
    "Create a generator function that can take a list of names as parameter and return each name. \n",
    "Get approved unisex names here: \n",
    "\n",
    "`wget -O unisex_navne.xls https://ast.dk/_namesdb/export/names?format=xls&gendermask=4`"
   ]
  },
  {
   "cell_type": "code",
   "execution_count": 19,
   "metadata": {},
   "outputs": [],
   "source": [
    "!wget -O unisex_navne.xls https://ast.dk/_namesdb/export/names?format=xls&gendermask=4"
   ]
  },
  {
   "cell_type": "markdown",
   "metadata": {
    "slideshow": {
     "slide_type": "subslide"
    }
   },
   "source": [
    "## The `%timeit` magic\n",
    "Calculate execution time of a Python statement or expression\n",
    "Runs the code 10.000 times and collect statistics (mean + standard deviation)"
   ]
  },
  {
   "cell_type": "code",
   "execution_count": 5,
   "metadata": {
    "slideshow": {
     "slide_type": "fragment"
    }
   },
   "outputs": [
    {
     "name": "stdout",
     "output_type": "stream",
     "text": [
      "1 s ± 353 µs per loop (mean ± std. dev. of 7 runs, 1 loop each)\n"
     ]
    }
   ],
   "source": [
    "import time\n",
    "def waiting():\n",
    "    time.sleep(1)\n",
    "    \n",
    "%timeit waiting()"
   ]
  },
  {
   "cell_type": "code",
   "execution_count": 39,
   "metadata": {
    "slideshow": {
     "slide_type": "subslide"
    }
   },
   "outputs": [
    {
     "name": "stdout",
     "output_type": "stream",
     "text": [
      "10.9 µs ± 691 ns per loop (mean ± std. dev. of 7 runs, 100000 loops each)\n"
     ]
    }
   ],
   "source": [
    "# line magic function\n",
    "%timeit sum(range(0, 1000)) "
   ]
  },
  {
   "cell_type": "code",
   "execution_count": 40,
   "metadata": {},
   "outputs": [
    {
     "name": "stdout",
     "output_type": "stream",
     "text": [
      "18.4 µs ± 264 ns per loop (mean ± std. dev. of 7 runs, 100000 loops each)\n"
     ]
    }
   ],
   "source": [
    "%timeit sum(list(range(0,1000)))"
   ]
  },
  {
   "cell_type": "code",
   "execution_count": 41,
   "metadata": {
    "slideshow": {
     "slide_type": "subslide"
    }
   },
   "outputs": [
    {
     "name": "stdout",
     "output_type": "stream",
     "text": [
      "1.88 µs ± 60.7 ns per loop (mean ± std. dev. of 7 runs, 1000000 loops each)\n"
     ]
    }
   ],
   "source": [
    "%%timeit #must be first line in cell\n",
    "#cell magic function\n",
    "\n",
    "sum(range(0, 100)) \n",
    "sum(range(0, 100)) "
   ]
  },
  {
   "cell_type": "markdown",
   "metadata": {},
   "source": [
    "## Exercise python modules:\n",
    "\n",
    "1. make 2 files, a main file and a module file, 'called test_my_module.py' and 'get_names.py' respectively.\n",
    "2. in the module file write a function with a generator, that can serve one name at a time (like you created in the last lesson)\n",
    "3. execute the function in the module file and test run it from cli with: `python get_names.py`\n",
    "4. in the main file implement a function that can take a number and return that many names (using the module you made).\n",
    "5. make sure that test_my_module.py can be run directly and that when running test_my_module, no top level code from get_names will run."
   ]
  }
 ],
 "metadata": {
  "celltoolbar": "Slideshow",
  "kernelspec": {
   "display_name": "Python 3",
   "language": "python",
   "name": "python3"
  },
  "language_info": {
   "codemirror_mode": {
    "name": "ipython",
    "version": 3
   },
   "file_extension": ".py",
   "mimetype": "text/x-python",
   "name": "python",
   "nbconvert_exporter": "python",
   "pygments_lexer": "ipython3",
   "version": "3.7.6"
  },
  "varInspector": {
   "cols": {
    "lenName": 16,
    "lenType": 16,
    "lenVar": 40
   },
   "kernels_config": {
    "python": {
     "delete_cmd_postfix": "",
     "delete_cmd_prefix": "del ",
     "library": "var_list.py",
     "varRefreshCmd": "print(var_dic_list())"
    },
    "r": {
     "delete_cmd_postfix": ") ",
     "delete_cmd_prefix": "rm(",
     "library": "var_list.r",
     "varRefreshCmd": "cat(var_dic_list()) "
    }
   },
   "types_to_exclude": [
    "module",
    "function",
    "builtin_function_or_method",
    "instance",
    "_Feature"
   ],
   "window_display": false
  }
 },
 "nbformat": 4,
 "nbformat_minor": 2
}
